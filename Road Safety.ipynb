{
 "cells": [
  {
   "cell_type": "code",
   "execution_count": 1,
   "id": "82d498f7",
   "metadata": {},
   "outputs": [
    {
     "name": "stderr",
     "output_type": "stream",
     "text": [
      "C:\\Users\\BALASAHEB MULE\\anaconda3\\lib\\site-packages\\numpy\\_distributor_init.py:30: UserWarning: loaded more than 1 DLL from .libs:\n",
      "C:\\Users\\BALASAHEB MULE\\anaconda3\\lib\\site-packages\\numpy\\.libs\\libopenblas.EL2C6PLE4ZYW3ECEVIV3OXXGRN2NRFM2.gfortran-win_amd64.dll\n",
      "C:\\Users\\BALASAHEB MULE\\anaconda3\\lib\\site-packages\\numpy\\.libs\\libopenblas64__v0.3.21-gcc_10_3_0.dll\n",
      "  warnings.warn(\"loaded more than 1 DLL from .libs:\"\n"
     ]
    }
   ],
   "source": [
    "import numpy as np\n",
    "import pandas as pd\n",
    "import matplotlib.pyplot as plt\n",
    "import os\n",
    "import seaborn as sns"
   ]
  },
  {
   "cell_type": "code",
   "execution_count": 4,
   "id": "324a99c6",
   "metadata": {},
   "outputs": [
    {
     "data": {
      "text/html": [
       "<div>\n",
       "<style scoped>\n",
       "    .dataframe tbody tr th:only-of-type {\n",
       "        vertical-align: middle;\n",
       "    }\n",
       "\n",
       "    .dataframe tbody tr th {\n",
       "        vertical-align: top;\n",
       "    }\n",
       "\n",
       "    .dataframe thead th {\n",
       "        text-align: right;\n",
       "    }\n",
       "</style>\n",
       "<table border=\"1\" class=\"dataframe\">\n",
       "  <thead>\n",
       "    <tr style=\"text-align: right;\">\n",
       "      <th></th>\n",
       "      <th>Age</th>\n",
       "      <th>Gender</th>\n",
       "      <th>Occupation</th>\n",
       "      <th>Experience</th>\n",
       "      <th>Frequency</th>\n",
       "      <th>infra1</th>\n",
       "      <th>infra2</th>\n",
       "      <th>y1</th>\n",
       "      <th>y2</th>\n",
       "      <th>y3</th>\n",
       "      <th>y4</th>\n",
       "      <th>y5</th>\n",
       "      <th>y6</th>\n",
       "    </tr>\n",
       "  </thead>\n",
       "  <tbody>\n",
       "    <tr>\n",
       "      <th>0</th>\n",
       "      <td>18-30 years</td>\n",
       "      <td>Male</td>\n",
       "      <td>Student</td>\n",
       "      <td>3-5 years</td>\n",
       "      <td>Daily</td>\n",
       "      <td>Bad road surface condition</td>\n",
       "      <td>Presence of on-street parking</td>\n",
       "      <td>1</td>\n",
       "      <td>0</td>\n",
       "      <td>0</td>\n",
       "      <td>0</td>\n",
       "      <td>0</td>\n",
       "      <td>0</td>\n",
       "    </tr>\n",
       "    <tr>\n",
       "      <th>1</th>\n",
       "      <td>18-30 years</td>\n",
       "      <td>Male</td>\n",
       "      <td>Student</td>\n",
       "      <td>1-3 years</td>\n",
       "      <td>Occasionally</td>\n",
       "      <td>Bad road surface condition</td>\n",
       "      <td>Lack of street light at night</td>\n",
       "      <td>0</td>\n",
       "      <td>1</td>\n",
       "      <td>0</td>\n",
       "      <td>0</td>\n",
       "      <td>0</td>\n",
       "      <td>0</td>\n",
       "    </tr>\n",
       "    <tr>\n",
       "      <th>2</th>\n",
       "      <td>18-30 years</td>\n",
       "      <td>Male</td>\n",
       "      <td>Student</td>\n",
       "      <td>1-3 years</td>\n",
       "      <td>2-3 times in a week</td>\n",
       "      <td>Presence of on-street parking</td>\n",
       "      <td>Lack of street light at night</td>\n",
       "      <td>0</td>\n",
       "      <td>0</td>\n",
       "      <td>0</td>\n",
       "      <td>1</td>\n",
       "      <td>0</td>\n",
       "      <td>0</td>\n",
       "    </tr>\n",
       "    <tr>\n",
       "      <th>3</th>\n",
       "      <td>18-30 years</td>\n",
       "      <td>Male</td>\n",
       "      <td>Student</td>\n",
       "      <td>3-5 years</td>\n",
       "      <td>Daily</td>\n",
       "      <td>Bad road surface condition</td>\n",
       "      <td>Presence of on-street parking</td>\n",
       "      <td>1</td>\n",
       "      <td>0</td>\n",
       "      <td>0</td>\n",
       "      <td>0</td>\n",
       "      <td>0</td>\n",
       "      <td>0</td>\n",
       "    </tr>\n",
       "    <tr>\n",
       "      <th>4</th>\n",
       "      <td>18-30 years</td>\n",
       "      <td>Female</td>\n",
       "      <td>Private Job</td>\n",
       "      <td>1-3 years</td>\n",
       "      <td>once a week</td>\n",
       "      <td>Bad road surface condition</td>\n",
       "      <td>Presence of on-street parking</td>\n",
       "      <td>1</td>\n",
       "      <td>0</td>\n",
       "      <td>0</td>\n",
       "      <td>0</td>\n",
       "      <td>0</td>\n",
       "      <td>0</td>\n",
       "    </tr>\n",
       "    <tr>\n",
       "      <th>...</th>\n",
       "      <td>...</td>\n",
       "      <td>...</td>\n",
       "      <td>...</td>\n",
       "      <td>...</td>\n",
       "      <td>...</td>\n",
       "      <td>...</td>\n",
       "      <td>...</td>\n",
       "      <td>...</td>\n",
       "      <td>...</td>\n",
       "      <td>...</td>\n",
       "      <td>...</td>\n",
       "      <td>...</td>\n",
       "      <td>...</td>\n",
       "    </tr>\n",
       "    <tr>\n",
       "      <th>363</th>\n",
       "      <td>18-30 years</td>\n",
       "      <td>Male</td>\n",
       "      <td>Student</td>\n",
       "      <td>Greater than 10 years</td>\n",
       "      <td>2-3 times in a week</td>\n",
       "      <td>Bad road surface condition</td>\n",
       "      <td>Lack of street light at night</td>\n",
       "      <td>0</td>\n",
       "      <td>1</td>\n",
       "      <td>0</td>\n",
       "      <td>0</td>\n",
       "      <td>0</td>\n",
       "      <td>0</td>\n",
       "    </tr>\n",
       "    <tr>\n",
       "      <th>364</th>\n",
       "      <td>18-30 years</td>\n",
       "      <td>Male</td>\n",
       "      <td>Private Job</td>\n",
       "      <td>5-10 years</td>\n",
       "      <td>Daily</td>\n",
       "      <td>Bad road surface condition</td>\n",
       "      <td>Minor or narrow road</td>\n",
       "      <td>0</td>\n",
       "      <td>0</td>\n",
       "      <td>1</td>\n",
       "      <td>0</td>\n",
       "      <td>0</td>\n",
       "      <td>0</td>\n",
       "    </tr>\n",
       "    <tr>\n",
       "      <th>365</th>\n",
       "      <td>18-30 years</td>\n",
       "      <td>Male</td>\n",
       "      <td>Student</td>\n",
       "      <td>3-5 years</td>\n",
       "      <td>Daily</td>\n",
       "      <td>Bad road surface condition</td>\n",
       "      <td>Minor or narrow road</td>\n",
       "      <td>0</td>\n",
       "      <td>0</td>\n",
       "      <td>1</td>\n",
       "      <td>0</td>\n",
       "      <td>0</td>\n",
       "      <td>0</td>\n",
       "    </tr>\n",
       "    <tr>\n",
       "      <th>366</th>\n",
       "      <td>18-30 years</td>\n",
       "      <td>Male</td>\n",
       "      <td>Student</td>\n",
       "      <td>1-3 years</td>\n",
       "      <td>Occasionally</td>\n",
       "      <td>Bad road surface condition</td>\n",
       "      <td>Lack of street light at night</td>\n",
       "      <td>0</td>\n",
       "      <td>1</td>\n",
       "      <td>0</td>\n",
       "      <td>0</td>\n",
       "      <td>0</td>\n",
       "      <td>0</td>\n",
       "    </tr>\n",
       "    <tr>\n",
       "      <th>367</th>\n",
       "      <td>18-30 years</td>\n",
       "      <td>Male</td>\n",
       "      <td>Student</td>\n",
       "      <td>5-10 years</td>\n",
       "      <td>Daily</td>\n",
       "      <td>Bad road surface condition</td>\n",
       "      <td>Lack of street light at night</td>\n",
       "      <td>0</td>\n",
       "      <td>1</td>\n",
       "      <td>0</td>\n",
       "      <td>0</td>\n",
       "      <td>0</td>\n",
       "      <td>0</td>\n",
       "    </tr>\n",
       "  </tbody>\n",
       "</table>\n",
       "<p>368 rows × 13 columns</p>\n",
       "</div>"
      ],
      "text/plain": [
       "             Age  Gender   Occupation             Experience  \\\n",
       "0    18-30 years    Male      Student              3-5 years   \n",
       "1    18-30 years    Male      Student              1-3 years   \n",
       "2    18-30 years    Male      Student              1-3 years   \n",
       "3    18-30 years    Male      Student              3-5 years   \n",
       "4    18-30 years  Female  Private Job              1-3 years   \n",
       "..           ...     ...          ...                    ...   \n",
       "363  18-30 years    Male      Student  Greater than 10 years   \n",
       "364  18-30 years    Male  Private Job             5-10 years   \n",
       "365  18-30 years    Male      Student              3-5 years   \n",
       "366  18-30 years    Male      Student              1-3 years   \n",
       "367  18-30 years    Male      Student             5-10 years   \n",
       "\n",
       "               Frequency                         infra1  \\\n",
       "0                  Daily     Bad road surface condition   \n",
       "1           Occasionally     Bad road surface condition   \n",
       "2    2-3 times in a week  Presence of on-street parking   \n",
       "3                  Daily     Bad road surface condition   \n",
       "4            once a week     Bad road surface condition   \n",
       "..                   ...                            ...   \n",
       "363  2-3 times in a week     Bad road surface condition   \n",
       "364                Daily     Bad road surface condition   \n",
       "365                Daily     Bad road surface condition   \n",
       "366         Occasionally     Bad road surface condition   \n",
       "367                Daily     Bad road surface condition   \n",
       "\n",
       "                             infra2  y1  y2  y3  y4  y5  y6  \n",
       "0     Presence of on-street parking   1   0   0   0   0   0  \n",
       "1     Lack of street light at night   0   1   0   0   0   0  \n",
       "2     Lack of street light at night   0   0   0   1   0   0  \n",
       "3     Presence of on-street parking   1   0   0   0   0   0  \n",
       "4     Presence of on-street parking   1   0   0   0   0   0  \n",
       "..                              ...  ..  ..  ..  ..  ..  ..  \n",
       "363   Lack of street light at night   0   1   0   0   0   0  \n",
       "364            Minor or narrow road   0   0   1   0   0   0  \n",
       "365            Minor or narrow road   0   0   1   0   0   0  \n",
       "366   Lack of street light at night   0   1   0   0   0   0  \n",
       "367   Lack of street light at night   0   1   0   0   0   0  \n",
       "\n",
       "[368 rows x 13 columns]"
      ]
     },
     "metadata": {},
     "output_type": "display_data"
    }
   ],
   "source": [
    "df=pd.read_csv(\"E:\\\\3. Conference\\\\TRB Road Safety\\\\Book2.csv\")\n",
    "display(df)"
   ]
  },
  {
   "cell_type": "code",
   "execution_count": null,
   "id": "0aaa42b8",
   "metadata": {},
   "outputs": [],
   "source": [
    "display (df.isna().sum())"
   ]
  },
  {
   "cell_type": "code",
   "execution_count": null,
   "id": "54aac2d4",
   "metadata": {},
   "outputs": [],
   "source": [
    "x=df.iloc[:,:-1]\n",
    "display(x)\n",
    "y=df.iloc[:,5:6]\n",
    "display(y)\n",
    "from sklearn.impute import SimpleImputer\n",
    "si=SimpleImputer(strategy='most_frequent')\n",
    "si.fit_transform(df.iloc[:,5:6])\n",
    "z=pd.concat([x,y])\n",
    "display(df)"
   ]
  },
  {
   "cell_type": "code",
   "execution_count": null,
   "id": "5822f498",
   "metadata": {},
   "outputs": [],
   "source": [
    "from sklearn.preprocessing import LabelEncoder\n",
    "label_x = LabelEncoder()\n",
    "df['Age']= label_x.fit_transform(df['Age'])\n",
    "df['Gender']= label_x.fit_transform(df['Gender'])\n",
    "df['Occupation']= label_x.fit_transform(df['Occupation'])\n",
    "df['Experience']= label_x.fit_transform(df['Experience'])\n",
    "df['Frequency']= label_x.fit_transform(df['Frequency'])\n",
    "df['35. Which infrastructure will you prefer for safety purpose of motorcyclists?']= label_x.fit_transform(df['35. Which infrastructure will you prefer for safety purpose of motorcyclists?'])\n",
    "print (df)\n",
    "x=df.iloc[:,:-1]\n",
    "display(x)"
   ]
  },
  {
   "cell_type": "code",
   "execution_count": null,
   "id": "9643cfa4",
   "metadata": {},
   "outputs": [],
   "source": [
    "display (y.isna().sum())"
   ]
  },
  {
   "cell_type": "code",
   "execution_count": null,
   "id": "d1dc7c45",
   "metadata": {},
   "outputs": [],
   "source": [
    "from sklearn.cluster import KMeans\n",
    "kmeans = KMeans(n_clusters=4)\n",
    "kmeans.fit(x)"
   ]
  },
  {
   "cell_type": "code",
   "execution_count": null,
   "id": "52f411fa",
   "metadata": {},
   "outputs": [],
   "source": [
    "display (kmeans.cluster_centers_)\n",
    "print (kmeans.labels_)\n",
    "cluster = pd.concat([x,pd.DataFrame(kmeans.labels_, columns = ['Cluster Number'])],axis=1)\n",
    "print (len(kmeans.labels_))\n",
    "cluster.to_excel ('C:\\\\Users\\\\LENOVO\\\\Desktop\\\\Road Safety\\\\SafetyClusterfactor3.xlsx')\n",
    "display (cluster)"
   ]
  },
  {
   "cell_type": "code",
   "execution_count": null,
   "id": "af5fc22a",
   "metadata": {},
   "outputs": [],
   "source": [
    "print (type(kmeans.labels_))\n",
    "unique, counts = np.unique(kmeans.labels_, return_counts=True)\n",
    "print(dict(zip(unique, counts)))"
   ]
  },
  {
   "cell_type": "code",
   "execution_count": null,
   "id": "e9d50154",
   "metadata": {},
   "outputs": [],
   "source": [
    "x=pd.read_csv(\"C:\\\\Users\\\\LENOVO\\\\Desktop\\\\Road Safety\\\\SafetyClusterfactor.csv\")\n",
    "x['Cluster Number'].astype('int64')\n",
    "df0=pd.DataFrame()\n",
    "df1=pd.DataFrame()\n",
    "df2=pd.DataFrame()\n",
    "df3=pd.DataFrame()\n",
    "for i in range(0,368):\n",
    "    if(x.loc[i].at['Cluster Number']==0):\n",
    "        df0=df0.append(df.iloc[i])\n",
    "    elif(x.loc[i].at['Cluster Number']==1):\n",
    "        df1=df1.append(df.iloc[i])\n",
    "    elif(x.loc[i].at['Cluster Number']==2):\n",
    "        df2=df2.append(df.iloc[i])\n",
    "    elif(x.loc[i].at['Cluster Number']==3):\n",
    "        df3=df3.append(df.iloc[i])\n",
    "display(df0)\n",
    "display(df1)\n",
    "display(df2)\n",
    "display(df3)"
   ]
  },
  {
   "cell_type": "code",
   "execution_count": null,
   "id": "d0d7be97",
   "metadata": {},
   "outputs": [],
   "source": [
    "x0=df0.iloc[:,:-1]\n",
    "y0=df0.iloc[:,5:6]\n",
    "from sklearn.model_selection import train_test_split\n",
    "x0_train,x0_test,y0_train,y0_test = train_test_split(x0,y0,test_size= 0.2)\n",
    "print (x0.shape)\n",
    "print (x0_train.shape)\n",
    "print (x0_test.shape)\n",
    "print (y0_train.shape)\n",
    "print (y0_test.shape)"
   ]
  },
  {
   "cell_type": "code",
   "execution_count": null,
   "id": "cb71628f",
   "metadata": {},
   "outputs": [],
   "source": [
    "x1=df1.iloc[:,:-1]\n",
    "y1=df1.iloc[:,5:6]\n",
    "from sklearn.model_selection import train_test_split\n",
    "x1_train,x1_test,y1_train,y1_test = train_test_split(x1,y1,test_size= 0.2)\n",
    "print (x1.shape)\n",
    "print (x1_train.shape)\n",
    "print (x1_test.shape)\n",
    "print (y1_train.shape)\n",
    "print (y1_test.shape)"
   ]
  },
  {
   "cell_type": "code",
   "execution_count": null,
   "id": "aa42e90c",
   "metadata": {},
   "outputs": [],
   "source": [
    "x2=df2.iloc[:,:-1]\n",
    "y2=df2.iloc[:,5:6]\n",
    "from sklearn.model_selection import train_test_split\n",
    "x2_train,x2_test,y2_train,y2_test = train_test_split(x2,y2,test_size= 0.2)\n",
    "print (x2.shape)\n",
    "print (x2_train.shape)\n",
    "print (x2_test.shape)\n",
    "print (y2_train.shape)\n",
    "print (y2_test.shape)"
   ]
  },
  {
   "cell_type": "code",
   "execution_count": null,
   "id": "61dcf192",
   "metadata": {},
   "outputs": [],
   "source": [
    "x3=df3.iloc[:,:-1]\n",
    "y3=df3.iloc[:,5:6]\n",
    "from sklearn.model_selection import train_test_split\n",
    "x3_train,x3_test,y3_train,y3_test = train_test_split(x3,y3,test_size= 0.2)\n",
    "print (x3.shape)\n",
    "print (x3_train.shape)\n",
    "print (x3_test.shape)\n",
    "print (y3_train.shape)\n",
    "print (y3_test.shape)"
   ]
  },
  {
   "cell_type": "code",
   "execution_count": null,
   "id": "31458180",
   "metadata": {},
   "outputs": [],
   "source": [
    "from sklearn.linear_model import LogisticRegression\n",
    "lr = LogisticRegression()\n",
    "lr.fit(x0_train,y0_train)\n",
    "print (lr)"
   ]
  },
  {
   "cell_type": "code",
   "execution_count": null,
   "id": "f47a8f34",
   "metadata": {},
   "outputs": [],
   "source": [
    "y0_pred= lr.predict(x0_test)\n",
    "print (y0_pred)"
   ]
  },
  {
   "cell_type": "code",
   "execution_count": null,
   "id": "035fd36f",
   "metadata": {},
   "outputs": [],
   "source": [
    "print (y0_test)"
   ]
  },
  {
   "cell_type": "code",
   "execution_count": null,
   "id": "68ed4ad5",
   "metadata": {},
   "outputs": [],
   "source": [
    "from sklearn.metrics import accuracy_score\n",
    "print (accuracy_score (y0_test,y0_pred))\n",
    "y0_pred= lr.predict(x0)\n",
    "print (y0_pred)"
   ]
  },
  {
   "cell_type": "code",
   "execution_count": null,
   "id": "ffbdc866",
   "metadata": {},
   "outputs": [],
   "source": [
    "y0_pred= lr.predict(x0)\n",
    "print (y0_pred)\n",
    "from sklearn.metrics import accuracy_score\n",
    "print (accuracy_score (y0,y0_pred))"
   ]
  },
  {
   "cell_type": "code",
   "execution_count": null,
   "id": "dd6bf7f2",
   "metadata": {
    "scrolled": true
   },
   "outputs": [],
   "source": [
    "from sklearn.linear_model import LogisticRegression\n",
    "lr = LogisticRegression()\n",
    "lr.fit(x1_train,y1_train)\n",
    "print (lr)\n",
    "y1_pred= lr.predict(x1_test)\n",
    "print (y1_pred)\n",
    "from sklearn.metrics import accuracy_score\n",
    "print (accuracy_score (y1_test,y1_pred))"
   ]
  },
  {
   "cell_type": "code",
   "execution_count": null,
   "id": "435d5f27",
   "metadata": {},
   "outputs": [],
   "source": [
    "y1_pred= lr.predict(x1)\n",
    "print (y1_pred)\n",
    "from sklearn.metrics import accuracy_score\n",
    "print (accuracy_score (y1,y1_pred))"
   ]
  },
  {
   "cell_type": "code",
   "execution_count": null,
   "id": "9cf8b42d",
   "metadata": {},
   "outputs": [],
   "source": [
    "from sklearn.linear_model import LogisticRegression\n",
    "lr = LogisticRegression()\n",
    "lr.fit(x2_train,y2_train)\n",
    "print (lr)\n",
    "y2_pred= lr.predict(x2_test)\n",
    "print (y2_pred)\n",
    "from sklearn.metrics import accuracy_score\n",
    "print (accuracy_score (y2_test,y2_pred))"
   ]
  },
  {
   "cell_type": "code",
   "execution_count": null,
   "id": "f8577e27",
   "metadata": {},
   "outputs": [],
   "source": [
    "y2_pred= lr.predict(x2)\n",
    "print (y2_pred)\n",
    "from sklearn.metrics import accuracy_score\n",
    "print (accuracy_score (y2,y2_pred))"
   ]
  },
  {
   "cell_type": "code",
   "execution_count": null,
   "id": "b16f057d",
   "metadata": {},
   "outputs": [],
   "source": [
    "from sklearn.linear_model import LogisticRegression\n",
    "lr = LogisticRegression()\n",
    "lr.fit(x3_train,y3_train)\n",
    "print (lr)\n",
    "y3_pred= lr.predict(x3_test)\n",
    "print (y3_pred)\n",
    "from sklearn.metrics import accuracy_score\n",
    "print (accuracy_score (y3_test,y3_pred))"
   ]
  },
  {
   "cell_type": "code",
   "execution_count": null,
   "id": "97871e17",
   "metadata": {},
   "outputs": [],
   "source": [
    "y3_pred= lr.predict(x3)\n",
    "print (y3_pred)\n",
    "from sklearn.metrics import accuracy_score\n",
    "print (accuracy_score (y3,y3_pred))"
   ]
  },
  {
   "cell_type": "code",
   "execution_count": null,
   "id": "beaf7e60",
   "metadata": {},
   "outputs": [],
   "source": [
    "from sklearn.neighbors import KNeighborsClassifier\n",
    "KNN = KNeighborsClassifier(n_neighbors =5 , metric = 'minkowski', p= 2)\n",
    "KNN.fit(x0_train,y0_train)\n",
    "print (KNN)"
   ]
  },
  {
   "cell_type": "code",
   "execution_count": null,
   "id": "20681ddf",
   "metadata": {},
   "outputs": [],
   "source": [
    "y0_pred = KNN.predict(x0_test)\n",
    "print (y0_pred)"
   ]
  },
  {
   "cell_type": "code",
   "execution_count": null,
   "id": "6cccb264",
   "metadata": {},
   "outputs": [],
   "source": [
    "from sklearn.metrics import accuracy_score\n",
    "print (accuracy_score (y0_test,y0_pred))\n"
   ]
  },
  {
   "cell_type": "code",
   "execution_count": null,
   "id": "0b1ad6d2",
   "metadata": {},
   "outputs": [],
   "source": [
    "y0_pred = KNN.predict(x0)\n",
    "print (y0_pred)\n",
    "from sklearn.metrics import accuracy_score\n",
    "accuracy = accuracy_score (y0,y0_pred)\n",
    "print (accuracy) "
   ]
  },
  {
   "cell_type": "code",
   "execution_count": null,
   "id": "0a4958f6",
   "metadata": {},
   "outputs": [],
   "source": [
    "from sklearn.neighbors import KNeighborsClassifier\n",
    "KNN = KNeighborsClassifier(n_neighbors =5 , metric = 'minkowski', p= 2)\n",
    "KNN.fit(x1_train,y1_train)\n",
    "print (KNN)\n",
    "y1_pred = KNN.predict(x1_test)\n",
    "print (y1_pred)\n",
    "from sklearn.metrics import accuracy_score\n",
    "print (accuracy_score (y1_test,y1_pred))\n"
   ]
  },
  {
   "cell_type": "code",
   "execution_count": null,
   "id": "fc5d0fbd",
   "metadata": {},
   "outputs": [],
   "source": [
    "y1_pred = KNN.predict(x1)\n",
    "print (y1_pred)\n",
    "from sklearn.metrics import accuracy_score\n",
    "accuracy = accuracy_score (y1,y1_pred)\n",
    "print (accuracy) "
   ]
  },
  {
   "cell_type": "code",
   "execution_count": null,
   "id": "88d0bae6",
   "metadata": {},
   "outputs": [],
   "source": [
    "from sklearn.neighbors import KNeighborsClassifier\n",
    "KNN = KNeighborsClassifier(n_neighbors =5 , metric = 'minkowski', p= 2)\n",
    "KNN.fit(x2_train,y2_train)\n",
    "print (KNN)\n",
    "y2_pred = KNN.predict(x2_test)\n",
    "print (y2_pred)\n",
    "from sklearn.metrics import accuracy_score\n",
    "print (accuracy_score (y2_test,y2_pred))"
   ]
  },
  {
   "cell_type": "code",
   "execution_count": null,
   "id": "1556b8c7",
   "metadata": {},
   "outputs": [],
   "source": [
    "y2_pred = KNN.predict(x2)\n",
    "print (y2_pred)\n",
    "from sklearn.metrics import accuracy_score\n",
    "accuracy = accuracy_score (y2,y2_pred)\n",
    "print (accuracy) "
   ]
  },
  {
   "cell_type": "code",
   "execution_count": null,
   "id": "5f95fb9f",
   "metadata": {},
   "outputs": [],
   "source": [
    "from sklearn.neighbors import KNeighborsClassifier\n",
    "KNN = KNeighborsClassifier(n_neighbors =5 , metric = 'minkowski', p= 2)\n",
    "KNN.fit(x3_train,y3_train)\n",
    "print (KNN)\n",
    "y3_pred = KNN.predict(x3_test)\n",
    "print (y3_pred)\n",
    "from sklearn.metrics import accuracy_score\n",
    "print (accuracy_score (y3_test,y3_pred))\n"
   ]
  },
  {
   "cell_type": "code",
   "execution_count": null,
   "id": "f0438a4e",
   "metadata": {},
   "outputs": [],
   "source": [
    "y3_pred = KNN.predict(x3)\n",
    "print (y3_pred)\n",
    "from sklearn.metrics import accuracy_score\n",
    "accuracy = accuracy_score (y3,y3_pred)\n",
    "print (accuracy) "
   ]
  },
  {
   "cell_type": "code",
   "execution_count": null,
   "id": "108d278e",
   "metadata": {},
   "outputs": [],
   "source": [
    "from sklearn.tree import DecisionTreeClassifier\n",
    "classifier = DecisionTreeClassifier (criterion = 'entropy')\n",
    "classifier.fit (x0_train,y0_train)"
   ]
  },
  {
   "cell_type": "code",
   "execution_count": null,
   "id": "fcf5c130",
   "metadata": {},
   "outputs": [],
   "source": [
    "y0_pred= classifier.predict(x0)\n",
    "y0_pred"
   ]
  },
  {
   "cell_type": "code",
   "execution_count": null,
   "id": "a366d5bd",
   "metadata": {},
   "outputs": [],
   "source": [
    "from sklearn.metrics import accuracy_score\n",
    "accuracy_score (y0,y0_pred)"
   ]
  },
  {
   "cell_type": "code",
   "execution_count": null,
   "id": "4961ad80",
   "metadata": {},
   "outputs": [],
   "source": [
    "from sklearn.tree import DecisionTreeClassifier\n",
    "classifier = DecisionTreeClassifier (criterion = 'entropy')\n",
    "classifier.fit (x1_train,y1_train)\n",
    "y1_pred= classifier.predict(x1)\n",
    "y1_pred\n",
    "from sklearn.metrics import accuracy_score\n",
    "accuracy_score (y1,y1_pred)"
   ]
  },
  {
   "cell_type": "code",
   "execution_count": null,
   "id": "1e04eefe",
   "metadata": {},
   "outputs": [],
   "source": [
    "from sklearn.tree import DecisionTreeClassifier\n",
    "classifier = DecisionTreeClassifier (criterion = 'entropy')\n",
    "classifier.fit (x2_train,y2_train)\n",
    "y2_pred= classifier.predict(x2)\n",
    "y2_pred\n",
    "from sklearn.metrics import accuracy_score\n",
    "accuracy_score (y2,y2_pred)"
   ]
  },
  {
   "cell_type": "code",
   "execution_count": null,
   "id": "6c8a13d8",
   "metadata": {},
   "outputs": [],
   "source": [
    "from sklearn.tree import DecisionTreeClassifier\n",
    "classifier = DecisionTreeClassifier (criterion = 'entropy')\n",
    "classifier.fit (x3_train,y3_train)\n",
    "y3_pred= classifier.predict(x3)\n",
    "y3_pred\n",
    "from sklearn.metrics import accuracy_score\n",
    "accuracy_score (y3,y3_pred)"
   ]
  },
  {
   "cell_type": "code",
   "execution_count": null,
   "id": "515ddbf3",
   "metadata": {},
   "outputs": [],
   "source": [
    "from sklearn.ensemble import RandomForestClassifier\n",
    "classifier = RandomForestClassifier(n_estimators=10, criterion='entropy')\n",
    "classifier.fit (x0_train,y0_train)\n",
    "print(classification_report (y1,y1_pred))"
   ]
  },
  {
   "cell_type": "code",
   "execution_count": null,
   "id": "e7e29de3",
   "metadata": {},
   "outputs": [],
   "source": [
    "y0_pred= classifier.predict(x0)\n",
    "y0_pred"
   ]
  },
  {
   "cell_type": "code",
   "execution_count": null,
   "id": "47bae415",
   "metadata": {},
   "outputs": [],
   "source": [
    "from sklearn.metrics import accuracy_score\n",
    "accuracy_score (y0,y0_pred)"
   ]
  },
  {
   "cell_type": "code",
   "execution_count": null,
   "id": "2dd284d2",
   "metadata": {},
   "outputs": [],
   "source": [
    "from sklearn.metrics import classification_report\n",
    "print(classification_report (y0,y0_pred))"
   ]
  },
  {
   "cell_type": "code",
   "execution_count": null,
   "id": "e7939fd8",
   "metadata": {},
   "outputs": [],
   "source": [
    "from sklearn.ensemble import RandomForestClassifier\n",
    "classifier = RandomForestClassifier(n_estimators=10, criterion='entropy')\n",
    "classifier.fit (x1_train,y1_train)\n",
    "y1_pred= classifier.predict(x1)\n",
    "display(y1_pred)\n",
    "from sklearn.metrics import accuracy_score\n",
    "accuracy_score (y1,y1_pred)\n",
    "from sklearn.metrics import classification_report\n",
    "print(classification_report (y1,y1_pred))\n"
   ]
  },
  {
   "cell_type": "code",
   "execution_count": null,
   "id": "69b7a17b",
   "metadata": {},
   "outputs": [],
   "source": [
    "from sklearn.ensemble import RandomForestClassifier\n",
    "classifier = RandomForestClassifier(n_estimators=10, criterion='entropy')\n",
    "classifier.fit (x2_train,y2_train)\n",
    "y2_pred= classifier.predict(x2)\n",
    "display(y2_pred)\n",
    "from sklearn.metrics import accuracy_score\n",
    "accuracy_score (y2,y2_pred)\n",
    "from sklearn.metrics import classification_report\n",
    "print(classification_report (y2,y2_pred))\n"
   ]
  },
  {
   "cell_type": "code",
   "execution_count": null,
   "id": "c0907ded",
   "metadata": {},
   "outputs": [],
   "source": []
  },
  {
   "cell_type": "code",
   "execution_count": null,
   "id": "e42ded35",
   "metadata": {},
   "outputs": [],
   "source": [
    "B1=pd.read_csv(\"C:\\\\Users\\\\LENOVO\\\\Desktop\\\\Road Safety\\\\SafetyClusterfactor2.csv\")\n",
    "display(B1)"
   ]
  },
  {
   "cell_type": "code",
   "execution_count": null,
   "id": "3708a749",
   "metadata": {},
   "outputs": [],
   "source": [
    "display (B1.isna().sum())"
   ]
  },
  {
   "cell_type": "code",
   "execution_count": null,
   "id": "dc4c25c2",
   "metadata": {},
   "outputs": [],
   "source": [
    "from sklearn.preprocessing import LabelEncoder\n",
    "label_x = LabelEncoder()\n",
    "B1['Over Speeding']= label_x.fit_transform(B1['Over Speeding'])\n",
    "print (B1)"
   ]
  },
  {
   "cell_type": "code",
   "execution_count": null,
   "id": "d6e85aff",
   "metadata": {},
   "outputs": [],
   "source": [
    "df0=pd.DataFrame()\n",
    "df1=pd.DataFrame()\n",
    "df2=pd.DataFrame()\n",
    "df3=pd.DataFrame()\n",
    "for i in range(0,368):\n",
    "    if(x.loc[i].at['Cluster Number']==0):\n",
    "        df0=df0.append(B1.iloc[i])\n",
    "    elif(x.loc[i].at['Cluster Number']==1):\n",
    "        df1=df1.append(B1.iloc[i])\n",
    "    elif(x.loc[i].at['Cluster Number']==2):\n",
    "        df2=df1.append(B1.iloc[i])\n",
    "    elif(x.loc[i].at['Cluster Number']==3):\n",
    "        df3=df1.append(B1.iloc[i])\n",
    "display(df0)\n",
    "display(df1)\n",
    "display(df2)\n",
    "display(df3)"
   ]
  },
  {
   "cell_type": "code",
   "execution_count": null,
   "id": "98b04394",
   "metadata": {},
   "outputs": [],
   "source": [
    "x0=df0.iloc[:,:-1]\n",
    "y0=df0.iloc[:,5:6]\n",
    "from sklearn.model_selection import train_test_split\n",
    "x0_train,x0_test,y0_train,y0_test = train_test_split(x0,y0,test_size= 0.2)\n",
    "print (x0.shape)\n",
    "print (x0_train.shape)\n",
    "print (x0_test.shape)\n",
    "print (y0_train.shape)\n",
    "print (y0_test.shape)"
   ]
  },
  {
   "cell_type": "code",
   "execution_count": null,
   "id": "453afe83",
   "metadata": {},
   "outputs": [],
   "source": [
    "x1=df1.iloc[:,:-1]\n",
    "y1=df1.iloc[:,5:6]\n",
    "from sklearn.model_selection import train_test_split\n",
    "x1_train,x1_test,y1_train,y1_test = train_test_split(x1,y1,test_size= 0.2)\n",
    "print (x1.shape)\n",
    "print (x1_train.shape)\n",
    "print (x1_test.shape)\n",
    "print (y1_train.shape)\n",
    "print (y1_test.shape)"
   ]
  },
  {
   "cell_type": "code",
   "execution_count": null,
   "id": "40527821",
   "metadata": {},
   "outputs": [],
   "source": [
    "x2=df2.iloc[:,:-1]\n",
    "y2=df2.iloc[:,5:6]\n",
    "from sklearn.model_selection import train_test_split\n",
    "x2_train,x2_test,y2_train,y2_test = train_test_split(x2,y2,test_size= 0.2)\n",
    "print (x2.shape)\n",
    "print (x2_train.shape)\n",
    "print (x2_test.shape)\n",
    "print (y2_train.shape)\n",
    "print (y2_test.shape)"
   ]
  },
  {
   "cell_type": "code",
   "execution_count": null,
   "id": "4d43ac23",
   "metadata": {},
   "outputs": [],
   "source": [
    "x3=df3.iloc[:,:-1]\n",
    "y3=df3.iloc[:,5:6]\n",
    "from sklearn.model_selection import train_test_split\n",
    "x3_train,x3_test,y3_train,y3_test = train_test_split(x3,y3,test_size= 0.2)\n",
    "print (x3.shape)\n",
    "print (x3_train.shape)\n",
    "print (x3_test.shape)\n",
    "print (y3_train.shape)\n",
    "print (y3_test.shape)"
   ]
  },
  {
   "cell_type": "code",
   "execution_count": null,
   "id": "cb78786f",
   "metadata": {},
   "outputs": [],
   "source": [
    "from sklearn.neighbors import KNeighborsClassifier\n",
    "KNN = KNeighborsClassifier(n_neighbors =5 , metric = 'minkowski', p= 2)\n",
    "KNN.fit(x0_train,y0_train)\n",
    "print (KNN)\n",
    "y0_pred = KNN.predict(x0_test)\n",
    "print (y0_pred)\n",
    "from sklearn.metrics import accuracy_score\n",
    "print (accuracy_score (y0_test,y0_pred))"
   ]
  },
  {
   "cell_type": "code",
   "execution_count": null,
   "id": "5f7fc9d3",
   "metadata": {},
   "outputs": [],
   "source": [
    "y0_pred = KNN.predict(x0)\n",
    "print (y0_pred)\n",
    "from sklearn.metrics import accuracy_score\n",
    "accuracy = accuracy_score (y0,y0_pred)\n",
    "print (accuracy) "
   ]
  },
  {
   "cell_type": "code",
   "execution_count": null,
   "id": "d185954b",
   "metadata": {},
   "outputs": [],
   "source": [
    "from sklearn.neighbors import KNeighborsClassifier\n",
    "KNN = KNeighborsClassifier(n_neighbors =5 , metric = 'minkowski', p= 2)\n",
    "KNN.fit(x1_train,y1_train)\n",
    "print (KNN)\n",
    "y1_pred = KNN.predict(x1_test)\n",
    "print (y1_pred)\n",
    "from sklearn.metrics import accuracy_score\n",
    "print (accuracy_score (y1_test,y1_pred))"
   ]
  },
  {
   "cell_type": "code",
   "execution_count": null,
   "id": "5fe61703",
   "metadata": {},
   "outputs": [],
   "source": [
    "y1_pred = KNN.predict(x1)\n",
    "print (y1_pred)\n",
    "from sklearn.metrics import accuracy_score\n",
    "accuracy = accuracy_score (y1,y1_pred)\n",
    "print (accuracy) "
   ]
  },
  {
   "cell_type": "code",
   "execution_count": null,
   "id": "8471296c",
   "metadata": {},
   "outputs": [],
   "source": [
    "from sklearn.neighbors import KNeighborsClassifier\n",
    "KNN = KNeighborsClassifier(n_neighbors =5 , metric = 'minkowski', p= 2)\n",
    "KNN.fit(x2_train,y2_train)\n",
    "print (KNN)\n",
    "y2_pred = KNN.predict(x2_test)\n",
    "print (y2_pred)\n",
    "from sklearn.metrics import accuracy_score\n",
    "print (accuracy_score (y2_test,y2_pred))"
   ]
  },
  {
   "cell_type": "code",
   "execution_count": null,
   "id": "e9e60f99",
   "metadata": {},
   "outputs": [],
   "source": [
    "y2_pred = KNN.predict(x2)\n",
    "print (y2_pred)\n",
    "from sklearn.metrics import accuracy_score\n",
    "accuracy = accuracy_score (y2,y2_pred)\n",
    "print (accuracy) "
   ]
  },
  {
   "cell_type": "code",
   "execution_count": null,
   "id": "d88fcae8",
   "metadata": {},
   "outputs": [],
   "source": [
    "from sklearn.neighbors import KNeighborsClassifier\n",
    "KNN = KNeighborsClassifier(n_neighbors =5 , metric = 'minkowski', p= 2)\n",
    "KNN.fit(x3_train,y3_train)\n",
    "print (KNN)\n",
    "y3_pred = KNN.predict(x3_test)\n",
    "print (y3_pred)\n",
    "from sklearn.metrics import accuracy_score\n",
    "print (accuracy_score (y3_test,y3_pred))"
   ]
  },
  {
   "cell_type": "code",
   "execution_count": null,
   "id": "313275ce",
   "metadata": {},
   "outputs": [],
   "source": [
    "from sklearn.tree import DecisionTreeClassifier\n",
    "classifier = DecisionTreeClassifier (criterion = 'entropy')\n",
    "classifier.fit (x0_train,y0_train)\n",
    "y0_pred= classifier.predict(x0)\n",
    "from sklearn.metrics import accuracy_score\n",
    "accuracy_score (y0,y0_pred)"
   ]
  },
  {
   "cell_type": "code",
   "execution_count": null,
   "id": "b838ee41",
   "metadata": {},
   "outputs": [],
   "source": []
  },
  {
   "cell_type": "code",
   "execution_count": null,
   "id": "91e68a5b",
   "metadata": {},
   "outputs": [],
   "source": [
    "from sklearn.tree import DecisionTreeClassifier\n",
    "classifier = DecisionTreeClassifier (criterion = 'entropy')\n",
    "classifier.fit (x1_train,y1_train)\n",
    "y1_pred= classifier.predict(x1)\n",
    "from sklearn.metrics import accuracy_score\n",
    "accuracy_score (y1,y1_pred)"
   ]
  },
  {
   "cell_type": "code",
   "execution_count": null,
   "id": "40d463a8",
   "metadata": {},
   "outputs": [],
   "source": [
    "from sklearn.tree import DecisionTreeClassifier\n",
    "classifier = DecisionTreeClassifier (criterion = 'entropy')\n",
    "classifier.fit (x2_train,y2_train)\n",
    "y2_pred= classifier.predict(x2)\n",
    "from sklearn.metrics import accuracy_score\n",
    "accuracy_score (y2,y2_pred)"
   ]
  },
  {
   "cell_type": "code",
   "execution_count": null,
   "id": "c154d146",
   "metadata": {},
   "outputs": [],
   "source": [
    "from sklearn.tree import DecisionTreeClassifier\n",
    "classifier = DecisionTreeClassifier (criterion = 'entropy')\n",
    "classifier.fit (x3_train,y3_train)\n",
    "y3_pred= classifier.predict(x3)\n",
    "from sklearn.metrics import accuracy_score\n",
    "accuracy_score (y3,y3_pred)"
   ]
  },
  {
   "cell_type": "code",
   "execution_count": null,
   "id": "fe476317",
   "metadata": {},
   "outputs": [],
   "source": [
    "from sklearn.ensemble import RandomForestClassifier\n",
    "classifier = RandomForestClassifier(n_estimators=10, criterion='entropy')\n",
    "classifier.fit (x0_train,y0_train)\n",
    "y0_pred= classifier.predict(x0)\n",
    "display(y0_pred)\n",
    "from sklearn.metrics import accuracy_score\n",
    "accuracy_score (y0,y0_pred)\n",
    "from sklearn.metrics import classification_report\n",
    "print(classification_report (y0,y0_pred))"
   ]
  },
  {
   "cell_type": "code",
   "execution_count": null,
   "id": "fdba31bc",
   "metadata": {},
   "outputs": [],
   "source": [
    "from sklearn.ensemble import RandomForestClassifier\n",
    "classifier = RandomForestClassifier(n_estimators=10, criterion='entropy')\n",
    "classifier.fit (x1_train,y1_train)\n",
    "y0_pred= classifier.predict(x1)\n",
    "display(y1_pred)\n",
    "from sklearn.metrics import accuracy_score\n",
    "accuracy_score (y1,y1_pred)\n",
    "from sklearn.metrics import classification_report\n",
    "print(classification_report (y1,y1_pred))"
   ]
  },
  {
   "cell_type": "code",
   "execution_count": null,
   "id": "ec3479ad",
   "metadata": {},
   "outputs": [],
   "source": [
    "from sklearn.ensemble import RandomForestClassifier\n",
    "classifier = RandomForestClassifier(n_estimators=10, criterion='entropy')\n",
    "classifier.fit (x2_train,y2_train)\n",
    "y2_pred= classifier.predict(x2)\n",
    "display(y2_pred)\n",
    "from sklearn.metrics import accuracy_score\n",
    "accuracy_score (y2,y2_pred)\n",
    "from sklearn.metrics import classification_report\n",
    "print(classification_report (y2,y2_pred))"
   ]
  },
  {
   "cell_type": "code",
   "execution_count": null,
   "id": "bf882968",
   "metadata": {},
   "outputs": [],
   "source": [
    "from sklearn.ensemble import RandomForestClassifier\n",
    "classifier = RandomForestClassifier(n_estimators=10, criterion='entropy')\n",
    "classifier.fit (x3_train,y3_train)\n",
    "y2_pred= classifier.predict(x3)\n",
    "display(y3_pred)\n",
    "from sklearn.metrics import accuracy_score\n",
    "accuracy_score (y3,y3_pred)\n",
    "from sklearn.metrics import classification_report\n",
    "print(classification_report (y3,y3_pred))"
   ]
  },
  {
   "cell_type": "code",
   "execution_count": null,
   "id": "5fe5894d",
   "metadata": {},
   "outputs": [],
   "source": []
  },
  {
   "cell_type": "code",
   "execution_count": null,
   "id": "7492fd87",
   "metadata": {},
   "outputs": [],
   "source": []
  },
  {
   "cell_type": "code",
   "execution_count": null,
   "id": "6d10d05f",
   "metadata": {},
   "outputs": [],
   "source": []
  },
  {
   "cell_type": "code",
   "execution_count": null,
   "id": "c855ddc9",
   "metadata": {},
   "outputs": [],
   "source": []
  },
  {
   "cell_type": "code",
   "execution_count": null,
   "id": "c34154e1",
   "metadata": {},
   "outputs": [],
   "source": []
  },
  {
   "cell_type": "code",
   "execution_count": null,
   "id": "92c7b2ab",
   "metadata": {},
   "outputs": [],
   "source": []
  }
 ],
 "metadata": {
  "kernelspec": {
   "display_name": "Python 3 (ipykernel)",
   "language": "python",
   "name": "python3"
  },
  "language_info": {
   "codemirror_mode": {
    "name": "ipython",
    "version": 3
   },
   "file_extension": ".py",
   "mimetype": "text/x-python",
   "name": "python",
   "nbconvert_exporter": "python",
   "pygments_lexer": "ipython3",
   "version": "3.9.13"
  }
 },
 "nbformat": 4,
 "nbformat_minor": 5
}
